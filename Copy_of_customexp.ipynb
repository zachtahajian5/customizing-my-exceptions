{
  "nbformat": 4,
  "nbformat_minor": 0,
  "metadata": {
    "colab": {
      "provenance": [],
      "authorship_tag": "ABX9TyNyEavBmH95qpoQf+0S7K3u",
      "include_colab_link": true
    },
    "kernelspec": {
      "name": "python3",
      "display_name": "Python 3"
    },
    "language_info": {
      "name": "python"
    }
  },
  "cells": [
    {
      "cell_type": "markdown",
      "metadata": {
        "id": "view-in-github",
        "colab_type": "text"
      },
      "source": [
        "<a href=\"https://colab.research.google.com/github/zachtahajian5/customizing-my-exceptions/blob/main/Copy_of_customexp.ipynb\" target=\"_parent\"><img src=\"https://colab.research.google.com/assets/colab-badge.svg\" alt=\"Open In Colab\"/></a>"
      ]
    },
    {
      "cell_type": "code",
      "execution_count": 7,
      "metadata": {
        "colab": {
          "base_uri": "https://localhost:8080/",
          "height": 332
        },
        "id": "ZiOAvv7oBl8K",
        "outputId": "2a73d219-0504-4df8-cbff-8f424e964e25"
      },
      "outputs": [
        {
          "output_type": "error",
          "ename": "NoNegativeZero",
          "evalue": "The height or base you provided for this Triangle is a non-positive number: (-18, 40)",
          "traceback": [
            "\u001b[0;31m---------------------------------------------------------------------------\u001b[0m",
            "\u001b[0;31mNoNegativeZero\u001b[0m                            Traceback (most recent call last)",
            "\u001b[0;32m<ipython-input-7-8cde58eceee6>\u001b[0m in \u001b[0;36m<cell line: 0>\u001b[0;34m()\u001b[0m\n\u001b[1;32m     29\u001b[0m   \u001b[0;32mreturn\u001b[0m \u001b[0;36m1\u001b[0m\u001b[0;34m/\u001b[0m\u001b[0;36m2\u001b[0m \u001b[0;34m*\u001b[0m \u001b[0mheight\u001b[0m \u001b[0;34m*\u001b[0m \u001b[0mbase\u001b[0m\u001b[0;34m\u001b[0m\u001b[0;34m\u001b[0m\u001b[0m\n\u001b[1;32m     30\u001b[0m \u001b[0;34m\u001b[0m\u001b[0m\n\u001b[0;32m---> 31\u001b[0;31m \u001b[0marea_trianglec\u001b[0m\u001b[0;34m(\u001b[0m\u001b[0;34m-\u001b[0m\u001b[0;36m18\u001b[0m\u001b[0;34m,\u001b[0m\u001b[0;36m40\u001b[0m\u001b[0;34m)\u001b[0m\u001b[0;34m\u001b[0m\u001b[0;34m\u001b[0m\u001b[0m\n\u001b[0m\u001b[1;32m     32\u001b[0m \u001b[0;34m\u001b[0m\u001b[0m\n\u001b[1;32m     33\u001b[0m \u001b[0;31m#we want to use a try/except/else/finally block here as well\u001b[0m\u001b[0;34m\u001b[0m\u001b[0;34m\u001b[0m\u001b[0m\n",
            "\u001b[0;32m<ipython-input-7-8cde58eceee6>\u001b[0m in \u001b[0;36marea_trianglec\u001b[0;34m(height, base)\u001b[0m\n\u001b[1;32m     26\u001b[0m \u001b[0;32mdef\u001b[0m \u001b[0marea_trianglec\u001b[0m\u001b[0;34m(\u001b[0m\u001b[0mheight\u001b[0m\u001b[0;34m,\u001b[0m \u001b[0mbase\u001b[0m\u001b[0;34m)\u001b[0m\u001b[0;34m:\u001b[0m\u001b[0;34m\u001b[0m\u001b[0;34m\u001b[0m\u001b[0m\n\u001b[1;32m     27\u001b[0m   \u001b[0;32mif\u001b[0m \u001b[0mheight\u001b[0m \u001b[0;34m<=\u001b[0m \u001b[0;36m0\u001b[0m \u001b[0;32mor\u001b[0m \u001b[0mbase\u001b[0m \u001b[0;34m<=\u001b[0m \u001b[0;36m0\u001b[0m\u001b[0;34m:\u001b[0m\u001b[0;34m\u001b[0m\u001b[0;34m\u001b[0m\u001b[0m\n\u001b[0;32m---> 28\u001b[0;31m     \u001b[0;32mraise\u001b[0m \u001b[0mNoNegativeZero\u001b[0m\u001b[0;34m(\u001b[0m\u001b[0mheight\u001b[0m\u001b[0;34m,\u001b[0m \u001b[0mbase\u001b[0m\u001b[0;34m)\u001b[0m\u001b[0;34m\u001b[0m\u001b[0;34m\u001b[0m\u001b[0m\n\u001b[0m\u001b[1;32m     29\u001b[0m   \u001b[0;32mreturn\u001b[0m \u001b[0;36m1\u001b[0m\u001b[0;34m/\u001b[0m\u001b[0;36m2\u001b[0m \u001b[0;34m*\u001b[0m \u001b[0mheight\u001b[0m \u001b[0;34m*\u001b[0m \u001b[0mbase\u001b[0m\u001b[0;34m\u001b[0m\u001b[0;34m\u001b[0m\u001b[0m\n\u001b[1;32m     30\u001b[0m \u001b[0;34m\u001b[0m\u001b[0m\n",
            "\u001b[0;31mNoNegativeZero\u001b[0m: The height or base you provided for this Triangle is a non-positive number: (-18, 40)"
          ]
        }
      ],
      "source": [
        "#This was an example of demoing custom exceptions, we'll rewrite the class custom exception definition to include information about the custom error\n",
        "\n",
        "#class NoNegativeZero(Exception):\n",
        "  #pass\n",
        "\n",
        "#we comment the previous defitnion above to keep it in our code for reference, but remove it from the program when it runs.\n",
        "\n",
        "class NoNegativeZero(Exception):\n",
        "  def __init__(self, height, base):\n",
        "     self.height = height\n",
        "     self.base = base\n",
        "#we then define a __str__ representation for what we want to print if an error occurs\n",
        "  def __str__(self):\n",
        "    return f\"The height or base you provided for this Triangle is a non-positive number: ({self.height}, {self.base})\"\n",
        "\n",
        "\n",
        "def area_triangle(height, base):\n",
        "  return height * base / 2\n",
        "\n",
        "area_triangle(18,40)\n",
        "area_triangle(-18,40)\n",
        "#we need to prevent the above calculation from being run\n",
        "\n",
        "#we'll use an if conditional to do this, raising our custom Nonegativezero exception\n",
        "\n",
        "def area_trianglec(height, base):\n",
        "  if height <= 0 or base <= 0:\n",
        "    raise NoNegativeZero(height, base)\n",
        "  return 1/2 * height * base\n",
        "\n",
        "area_trianglec(-18,40)\n",
        "\n",
        "#we want to use a try/except/else/finally block here as well\n",
        "\n",
        "try:\n",
        "  area = area_trianglec(20,40)\n",
        "except NoNegativeZero as e:\n",
        "  print(\"We're sorry:\", e)\n",
        "else:\n",
        "  print(\"Area of Triangle:\", area)"
      ]
    },
    {
      "cell_type": "code",
      "source": [
        "#correct output with try/except/else/finally\n",
        "class NoNegativeZero(Exception):\n",
        "  pass\n",
        "\n",
        "def area_trianglec(height, base):\n",
        "  if height <= 0 or base <= 0:\n",
        "    raise NoNegativeZero(\n",
        "        f'Your base and height values must always be greater than 0.'\n",
        "        f' Program recieved height of {height} and base of {base}, please amend one or both to conform with the above.'\n",
        "    )\n",
        "  return 1/2 * height * base\n",
        "\n",
        "try:\n",
        "  area = area_trianglec(20,40)\n",
        "except NoNegativeZero as e:\n",
        "  print(\"We're sorry:\", e)\n",
        "else:\n",
        "  print(\"Area of Triangle:\", area)\n",
        "finally:\n",
        "  print(\"Thank you for using Zach's Custom Exception Example Demo. Please contact me at zachtahajian5@gmail.com should you have any questions\")"
      ],
      "metadata": {
        "colab": {
          "base_uri": "https://localhost:8080/"
        },
        "id": "S_og2mqjOYjT",
        "outputId": "d3b46493-ac01-411c-fd8e-36a5084735a0"
      },
      "execution_count": null,
      "outputs": [
        {
          "output_type": "stream",
          "name": "stdout",
          "text": [
            "Area of Triangle: 400.0\n",
            "Thank you for using Zach's Custom Exception Example Demo. Please contact me at zachtahajian5@gmail.com should you have any questions\n"
          ]
        }
      ]
    },
    {
      "cell_type": "code",
      "source": [],
      "metadata": {
        "id": "kbRtJgTj5TCo"
      },
      "execution_count": null,
      "outputs": []
    }
  ]
}